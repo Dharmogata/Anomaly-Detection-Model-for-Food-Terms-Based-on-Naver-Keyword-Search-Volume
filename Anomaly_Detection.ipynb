{
 "cells": [
  {
   "cell_type": "markdown",
   "id": "e4436044",
   "metadata": {},
   "source": [
    "# 이상탐지\n",
    "- (Prophet) https://www.analyticsvidhya.com/blog/2021/12/anomaly-detection-model-using-facebook-prophet/\n",
    "- https://mkang32.github.io/python/2020/12/15/prophet-intro.html\n",
    "- (sklearn) https://github.com/uiandwe/TIL/blob/master/Machine_Running/%EC%9D%B4%EC%83%81%EA%B0%90%EC%A7%80/Anomaly_Detection_using_Isolation_Forest.ipynb\n",
    "- https://john-analyst.medium.com/isolation-forest%EB%A5%BC-%ED%86%B5%ED%95%9C-%EC%9D%B4%EC%83%81%ED%83%90%EC%A7%80-%EB%AA%A8%EB%8D%B8-9b10b43eb4ac\n",
    "- (RNN) https://velog.io/@jhpark/RNN-%EC%8B%9C%EA%B3%84%EC%97%B4-%EB%8D%B0%EC%9D%B4%ED%84%B0-%EC%9D%B4%EC%83%81%EC%B9%98-%ED%83%90%EC%A7%80-%EC%BD%94%EB%93%9C-%EB%A6%AC%EB%B7%B0"
   ]
  },
  {
   "cell_type": "markdown",
   "id": "0668dcc7",
   "metadata": {},
   "source": [
    "## !!!!!train은 어제까지로 바꾸고, forecast에 어제부터로 해야하는거 아닌지??"
   ]
  },
  {
   "cell_type": "code",
   "execution_count": null,
   "id": "0b22e312",
   "metadata": {
    "scrolled": true
   },
   "outputs": [],
   "source": [
    "from datetime import timedelta\n",
    "df_anomaly = final_df[['날짜']]\n",
    "col_na = []\n",
    "\n",
    "final_df = final_df[final_df.columns[final_df.apply(lambda x: len(x[x.notnull().values]) > 30).values == True]] # 값이 30개 이상인 항목만\n",
    "for search_key in tqdm(final_df.columns[1:]): #'날짜'제외\n",
    "    new_df = final_df[['날짜', search_key]]\n",
    "    new_df = new_df.set_index('날짜')\n",
    "    new_df_prophet = new_df.reset_index()[['날짜', new_df.columns[0]]].rename({'날짜':'ds', new_df.columns[0]:'y'}, axis='columns')\n",
    "    m = Prophet()#changepoint_range=0.95, changepoint_prior_scale=0.05) #holidays=holidays)\n",
    "    m.add_country_holidays(country_name='KR')\n",
    "    m.fit(new_df_prophet)\n",
    "    future = m.make_future_dataframe(periods=365, freq='D')\n",
    "    forecast = m.predict(future)\n",
    "    forecast[['ds','yhat','yhat_lower','yhat_upper']].tail(10)\n",
    "    result = pd.concat([new_df_prophet.set_index('ds')['y'], forecast.set_index('ds')[['yhat','yhat_lower','yhat_upper']]], axis=1)\n",
    "    result['error'] = result['y'] - result['yhat'] #실제값 - 예측값범위\n",
    "    result['uncertainty'] = result['yhat_upper'] - result['yhat_lower'] #범위, 불확실성\n",
    "    # 본래 abs를 붙여 낮게 나온 이상치도 출력하는 코드였지만, 검색어 특성상 높게 나온 지점만 산출하기 위해 abs 삭제\n",
    "    #비율에 따라, 검색량이 절대적으로 적은(일정 수치 이하) 경우는 가중치를 바꾸도록??\n",
    "    result['anomaly'] = result.apply(lambda x: 'Yes' if((x['error']) > 1*x['uncertainty']) else 'No', axis = 1) #원래는 1.5. 나는 0.4\n",
    "    #result_new = result[result['anomaly']=='Yes']\n",
    "    #anomaly_list = list(result_new.index)\n",
    "    df_temp = result['anomaly'].reset_index().rename(columns={'ds':'날짜','anomaly':search_key})\n",
    "    df_anomaly = pd.merge(df_anomaly,df_temp, on = '날짜')\n",
    "df_anomaly"
   ]
  },
  {
   "cell_type": "code",
   "execution_count": null,
   "id": "d978c44d",
   "metadata": {},
   "outputs": [],
   "source": [
    "# 어제 이상치 추출\n",
    "from datetime import datetime\n",
    "df_anomaly_ = df_anomaly.set_index('날짜')\n",
    "df_anomaly_.T.replace('No', np.NaN).count().tail() #날짜\n",
    "day_num = 1\n",
    "anomaly_yesterday = df_anomaly_.T[str(datetime.now().date() - relativedelta(days=day_num))][df_anomaly_.T[str(datetime.now().date() - relativedelta(days=day_num))].values == 'Yes'].keys() #어제 이상치.."
   ]
  },
  {
   "cell_type": "code",
   "execution_count": null,
   "id": "34e035ed",
   "metadata": {},
   "outputs": [],
   "source": [
    "df_anomaly_.T.replace('No', np.NaN).count().tail(7)"
   ]
  },
  {
   "cell_type": "code",
   "execution_count": null,
   "id": "d5106ee9",
   "metadata": {},
   "outputs": [],
   "source": [
    "anomaly_yesterday"
   ]
  },
  {
   "cell_type": "code",
   "execution_count": null,
   "id": "201d4404",
   "metadata": {
    "scrolled": false
   },
   "outputs": [],
   "source": [
    "weight = 1.5 # 오차 허용범위(높을 수록 둔감)\n",
    "\n",
    "for search_key in anomaly_yesterday:\n",
    "    new_df = final_df[['날짜', search_key]]\n",
    "    new_df = new_df.set_index('날짜')\n",
    "    new_df_prophet = new_df.reset_index()[['날짜', new_df.columns[0]]].rename({'날짜':'ds', new_df.columns[0]:'y'}, axis='columns')\n",
    "    m = Prophet()#changepoint_range=0.95, changepoint_prior_scale=0.05) #holidays=holidays)\n",
    "    m.add_country_holidays(country_name='KR')\n",
    "    m.fit(new_df_prophet)\n",
    "    future = m.make_future_dataframe(periods=365, freq='D')\n",
    "    forecast = m.predict(future)\n",
    "    forecast[['ds','yhat','yhat_lower','yhat_upper']].tail(10)\n",
    "    result = pd.concat([new_df_prophet.set_index('ds')['y'], forecast.set_index('ds')[['yhat','yhat_lower','yhat_upper']]], axis=1)\n",
    "    result['error'] = result['y'] - result['yhat'] #실제값 - 예측값범위\n",
    "    result['uncertainty'] = result['yhat_upper'] - result['yhat_lower'] #범위, 불확실성\n",
    "    # 본래 abs를 붙여 낮게 나온 이상치도 출력하는 코드였지만, 검색어 특성상 높게 나온 지점만 산출하기 위해 abs 삭제\n",
    "    #비율에 따라, 검색량이 절대적으로 적은(일정 수치 이하) 경우는 가중치를 바꾸도록??\n",
    "    result['anomaly'] = result.apply(lambda x: 'Yes' if((x['error']) > weight*x['uncertainty']) else 'No', axis = 1) #원래는 1.5. 나는 0.4\n",
    "    #result_new = result[result['anomaly']=='Yes']\n",
    "    #visualize the anomaly data\n",
    "    fig = px.scatter(result.reset_index(), x='ds', y='y', color='anomaly', title=new_df.columns[0])\n",
    "    #slider\n",
    "    fig.update_xaxes(\n",
    "        rangeslider_visible = True,\n",
    "        rangeselector = dict(\n",
    "            buttons = list([\n",
    "                  dict(count=1, label='1y', step=\"year\", stepmode=\"backward\"),\n",
    "                  dict(count=2, label='3y', step=\"year\", stepmode=\"backward\"),\n",
    "                  dict(count=2, label='5y', step=\"year\", stepmode=\"backward\"),\n",
    "                  dict(step=\"all\")\n",
    "            ])\n",
    "        )\n",
    "    )\n",
    "    fig.show()"
   ]
  },
  {
   "cell_type": "code",
   "execution_count": null,
   "id": "5901d661",
   "metadata": {},
   "outputs": [],
   "source": []
  },
  {
   "cell_type": "code",
   "execution_count": null,
   "id": "0a47095d",
   "metadata": {},
   "outputs": [],
   "source": [
    "# 외부링크"
   ]
  },
  {
   "cell_type": "code",
   "execution_count": null,
   "id": "a57663c4",
   "metadata": {},
   "outputs": [],
   "source": [
    "from bokeh.plotting import figure, output_file, show\n",
    "p = figure(title=new_df.columns[0], x_axis_label = 'ds', y_axis_label = 'y')\n",
    "p.circle(result.reset_index()['ds'],[result[result.reset_index()['anomaly'].values == 'No']['y'], result[result.reset_index()['anomaly'].values == 'Yes']['y']], color=['blue','red'])\n",
    "\n",
    "#p.circle(result.reset_index()['ds'],result[result.reset_index()['anomaly'].values == 'No']['y'], color='blue')\n",
    "#p.scatter(result.reset_index()['ds'],result[result.reset_index()['anomaly'].values == 'Yes']['y'], color='red')\n",
    "show(p)"
   ]
  },
  {
   "cell_type": "code",
   "execution_count": null,
   "id": "c7f73f21",
   "metadata": {},
   "outputs": [],
   "source": [
    "import plotly.express as px\n",
    "fig = px.scatter(result.reset_index(), x='ds', y='y', color='anomaly', title=new_df.columns[0])\n",
    "#slider\n",
    "fig.update_xaxes(\n",
    "    rangeslider_visible = True,\n",
    "    rangeselector = dict(\n",
    "        buttons = list([\n",
    "              dict(count=1, label='1y', step=\"year\", stepmode=\"backward\"),\n",
    "              dict(count=2, label='3y', step=\"year\", stepmode=\"backward\"),\n",
    "              dict(count=2, label='5y', step=\"year\", stepmode=\"backward\"),\n",
    "              dict(step=\"all\")\n",
    "        ])\n",
    "    )\n",
    ")\n",
    "fig.show()\n",
    "fig.write_html(\"a.html\")"
   ]
  },
  {
   "cell_type": "code",
   "execution_count": null,
   "id": "b429039f",
   "metadata": {},
   "outputs": [],
   "source": [
    "# 카카오 API\n",
    "# -https://developers.kakao.com/tool/rest-api/open/post/v2-api-talk-memo-default-send\n",
    "import json\n",
    "import requests\n",
    "\n",
    "url = \"https://kapi.kakao.com/v2/api/talk/memo/default/send\"\n",
    "# 사용자 토큰\n",
    "headers = {\n",
    "    \"Authorization\": \"Bearer \" + _cfg['Kakao_Authorization']\n",
    "}\n",
    "data = {\n",
    "    \"template_object\" : json.dumps({ \"object_type\" : \"text\",\n",
    "                                     \"text\" : f'{str(datetime.now().date() - relativedelta(days=1))} 이상검색어 목록입니다. {list(anomaly_yesterday)}',\n",
    "                                     \"link\" : {\n",
    "                                                 \"web_url\" : \"www.naver.com\",\n",
    "                                                 \"mobile_web_url\": \"https://developers.kakao.com\"\n",
    "                                              }\n",
    "    })\n",
    "}\n",
    "response = requests.post(url, headers=headers, data=data)\n",
    "print(response.status_code)\n",
    "if response.json().get('result_code') == 0:\n",
    "    print('메시지를 성공적으로 보냈습니다.')\n",
    "else:\n",
    "    print('메시지를 성공적으로 보내지 못했습니다. 오류메시지 : ' + str(response.json()))\n",
    "    # 이미지 보내는 방법 추가 필요"
   ]
  },
  {
   "cell_type": "code",
   "execution_count": null,
   "id": "bce3acf7",
   "metadata": {},
   "outputs": [],
   "source": []
  },
  {
   "cell_type": "code",
   "execution_count": null,
   "id": "230892a4",
   "metadata": {},
   "outputs": [],
   "source": []
  },
  {
   "cell_type": "code",
   "execution_count": null,
   "id": "c53d35cb",
   "metadata": {},
   "outputs": [],
   "source": []
  },
  {
   "cell_type": "code",
   "execution_count": null,
   "id": "f23404ec",
   "metadata": {},
   "outputs": [],
   "source": []
  },
  {
   "cell_type": "code",
   "execution_count": null,
   "id": "c7983e0f",
   "metadata": {},
   "outputs": [],
   "source": []
  },
  {
   "cell_type": "markdown",
   "id": "964235e8",
   "metadata": {},
   "source": [
    "# 이메일\n",
    "- https://www.infoking.site/138"
   ]
  },
  {
   "cell_type": "code",
   "execution_count": null,
   "id": "85d62be8",
   "metadata": {},
   "outputs": [],
   "source": [
    "import smtplib\n",
    "from email.message import EmailMessage\n",
    "\n",
    "# STMP 서버의 url과 port 번호\n",
    "SMTP_SERVER = 'smtp.gmail.com'\n",
    "SMTP_PORT = 465\n",
    "\n",
    "# 1. SMTP 서버 연결\n",
    "smtp = smtplib.SMTP_SSL(SMTP_SERVER, SMTP_PORT)\n",
    "\n",
    "EMAIL_ADDR = config.ID\n",
    "EMAIL_PASSWORD = config.PASSWORD\n",
    "\n",
    "# 2. SMTP 서버에 로그인\n",
    "smtp.login(EMAIL_ADDR, EMAIL_PASSWORD)\n",
    "\n",
    "# 3. MIME 형태의 이메일 메세지 작성\n",
    "message = EmailMessage()\n",
    "message.set_content('이메일 본문')\n",
    "message[\"Subject\"] = \"이메일 제목\"\n",
    "message[\"From\"] = EMAIL_ADDR  #보내는 사람의 이메일 계정\n",
    "message[\"To\"] = '받는 사람의 이메일 계정'\n",
    "\n",
    "# 4. 서버로 메일 보내기\n",
    "smtp.send_message(message)\n",
    "\n",
    "# 5. 메일을 보내면 서버와의 연결 끊기\n",
    "smtp.quit()"
   ]
  },
  {
   "cell_type": "code",
   "execution_count": null,
   "id": "19ad0908",
   "metadata": {},
   "outputs": [],
   "source": [
    "# 사진첨부\n",
    "import imghdr #이미지 첨부를 위한 라이브러리\n",
    "import smtplib\n",
    "from email.message import EmailMessage\n",
    "\n",
    "# STMP 서버의 url과 port 번호\n",
    "SMTP_SERVER = 'smtp.gmail.com'\n",
    "SMTP_PORT = 465\n",
    "\n",
    "# 1. SMTP 서버 연결\n",
    "smtp = smtplib.SMTP_SSL(SMTP_SERVER, SMTP_PORT)\n",
    "\n",
    "EMAIL_ADDR = '본인의 이메일 계정'\n",
    "EMAIL_PASSWORD = '본인의 이메일 계정 비밀번호'\n",
    "\n",
    "# 2. SMTP 서버에 로그인\n",
    "smtp.login(EMAIL_ADDR, EMAIL_PASSWORD)\n",
    "\n",
    "# 3. MIME 형태의 이메일 메세지 작성\n",
    "message = EmailMessage()\n",
    "message.set_content('이메일 본문')\n",
    "message[\"Subject\"] = \"이메일 제목\"\n",
    "message[\"From\"] = EMAIL_ADDR  #보내는 사람의 이메일 계정\n",
    "message[\"To\"] = '받는 사람의 이메일 계정'\n",
    "\n",
    "# 3-1. 이메일에 사진 첨부하기\n",
    "with open('사진경로', 'rb') as image:\n",
    "  image_file = image.read() # 이미지 파일 읽어오기\n",
    "\n",
    "image_type = imghdr.what('e-mail', image_file)\n",
    "message.add_attachment(image_file, maintype = 'image', subtype = image_type)\n",
    "\n",
    "\n",
    "# 4. 서버로 메일 보내기\n",
    "smtp.send_message(message)\n",
    "\n",
    "# 5. 메일을 보내면 서버와의 연결 끊기\n",
    "smtp.quit()"
   ]
  },
  {
   "cell_type": "code",
   "execution_count": null,
   "id": "217f8e7c",
   "metadata": {},
   "outputs": [],
   "source": []
  },
  {
   "cell_type": "code",
   "execution_count": null,
   "id": "33947655",
   "metadata": {},
   "outputs": [],
   "source": []
  },
  {
   "cell_type": "code",
   "execution_count": null,
   "id": "dca07a43",
   "metadata": {},
   "outputs": [],
   "source": []
  },
  {
   "cell_type": "code",
   "execution_count": null,
   "id": "12acfcdf",
   "metadata": {},
   "outputs": [],
   "source": []
  },
  {
   "cell_type": "code",
   "execution_count": null,
   "id": "44a26013",
   "metadata": {},
   "outputs": [],
   "source": []
  },
  {
   "cell_type": "code",
   "execution_count": null,
   "id": "beb65b0b",
   "metadata": {},
   "outputs": [],
   "source": []
  },
  {
   "cell_type": "code",
   "execution_count": null,
   "id": "20bb8475",
   "metadata": {},
   "outputs": [],
   "source": []
  },
  {
   "cell_type": "code",
   "execution_count": null,
   "id": "2b377c93",
   "metadata": {},
   "outputs": [],
   "source": []
  },
  {
   "cell_type": "code",
   "execution_count": null,
   "id": "ab399dc9",
   "metadata": {},
   "outputs": [],
   "source": [
    "import pandas as pd\n",
    "import numpy as np\n",
    "import matplotlib.pyplot as plt\n",
    "from datetime import datetime\n",
    "import plotly.express as px\n",
    "import matplotlib as mpl\n",
    "mpl.rcParams['figure.figsize'] = (10, 8)\n",
    "mpl.rcParams['axes.grid'] = False\n",
    "\n",
    "#검색 키워드 설정\n",
    "search_key = '과당'\n",
    "new_df = final_df[['날짜', search_key]]\n",
    "new_df.shape"
   ]
  },
  {
   "cell_type": "code",
   "execution_count": null,
   "id": "23e20246",
   "metadata": {},
   "outputs": [],
   "source": [
    "#df['timestamp'] = pd.to_datetime(df['timestamp'])\n",
    "#df = df.set_index('timestamp').resample('H').mean().reset_index()\n",
    "new_df = new_df.set_index('날짜')\n",
    "new_df.shape"
   ]
  },
  {
   "cell_type": "code",
   "execution_count": null,
   "id": "b55484d4",
   "metadata": {},
   "outputs": [],
   "source": [
    "#express to plot entire data\n",
    "fig = px.line(new_df.reset_index(), x='날짜', y=new_df.columns[0], title=new_df.columns[0])\n",
    "#slider\n",
    "fig.update_xaxes(\n",
    "    rangeslider_visible = True,\n",
    "    rangeselector = dict(\n",
    "        buttons = list([\n",
    "              dict(count=1, label='1y', step=\"year\", stepmode=\"backward\"),\n",
    "              dict(count=2, label='2y', step=\"year\", stepmode=\"backward\"),\n",
    "              dict(count=5, label='5y', step=\"year\", stepmode=\"backward\")\n",
    "        ])\n",
    "    )\n",
    ")\n",
    "fig.show()"
   ]
  },
  {
   "cell_type": "code",
   "execution_count": null,
   "id": "7f80ceb0",
   "metadata": {},
   "outputs": [],
   "source": [
    "from prophet import Prophet\n",
    "new_df_prophet = new_df.reset_index()[['날짜', new_df.columns[0]]].rename({'날짜':'ds', new_df.columns[0]:'y'}, axis='columns')\n",
    "# 상한하한 (그러나 전체적으로 예측치가 올라가 이상탐지에 적합하지않아서 제외)\n",
    "#new_df_prophet['cap']=train.max()['y']\n",
    "#new_df_prophet['floor']=0"
   ]
  },
  {
   "cell_type": "markdown",
   "id": "272cedaa",
   "metadata": {},
   "source": [
    "#train test split\n",
    "train = new_df[(new_df['ds'] >= '2016-01-01') & (new_df['ds'] <= '2021-12-31')]\n",
    "test = new_df[(new_df['ds'] >= '2022-01-01')]"
   ]
  },
  {
   "cell_type": "code",
   "execution_count": null,
   "id": "1de658a7",
   "metadata": {},
   "outputs": [],
   "source": [
    "#Prophet(holidays=holidays로 추가 가능)\n",
    "event1 = pd.DataFrame({\n",
    "  'holiday': 'event1',\n",
    "  'ds': pd.to_datetime(['2017-08-15', '2017-08-16']),#, \"2018-08-14\", '2018-08-15', '2018-08-16']),\n",
    "  'lower_window': 0,\n",
    "  'upper_window': 120,\n",
    "})\n",
    "\"\"\"\n",
    "event2 = pd.DataFrame({\n",
    "  'holiday': 'event2',\n",
    "  'ds': pd.to_datetime([\"2018-10-25\", \"2018-10-24\"]),\n",
    "  'lower_window': 0,\n",
    "  'upper_window': 1,\n",
    "})\n",
    "\"\"\"\n",
    "holidays = event1\n",
    "#holidays = pd.concat((event1, event2))"
   ]
  },
  {
   "cell_type": "code",
   "execution_count": null,
   "id": "1b4cf30a",
   "metadata": {
    "scrolled": true
   },
   "outputs": [],
   "source": [
    "m = Prophet()#(growth='logistic'--상하한)#changepoint_range=0.95, changepoint_prior_scale=0.05) #holidays=holidays)\n",
    "m.add_country_holidays(country_name='KR')\n",
    "m.fit(new_df_prophet) # train test 분리 안 하고 전체 넣어도 될 듯? (원래는 train이였음)-2022년에 사건이 있는 경우 train으로 하는게 좋음"
   ]
  },
  {
   "cell_type": "code",
   "execution_count": null,
   "id": "00a5b704",
   "metadata": {},
   "outputs": [],
   "source": [
    "future = m.make_future_dataframe(periods=365, freq='D')\n",
    "#future['cap']=500\n",
    "#future['floor']=0 #하한지정"
   ]
  },
  {
   "cell_type": "code",
   "execution_count": null,
   "id": "289e5ef9",
   "metadata": {},
   "outputs": [],
   "source": [
    "forecast = m.predict(future)\n",
    "forecast[['ds','yhat','yhat_lower','yhat_upper']].tail(10)"
   ]
  },
  {
   "cell_type": "code",
   "execution_count": null,
   "id": "03adf5ce",
   "metadata": {},
   "outputs": [],
   "source": [
    "forecast[['ds', 'holidays']].sort_values(by='holidays', ascending=False)#[forecast['ds'] == '2017-11-11']"
   ]
  },
  {
   "cell_type": "code",
   "execution_count": null,
   "id": "31a0b3f2",
   "metadata": {},
   "outputs": [],
   "source": [
    "from prophet.plot import add_changepoints_to_plot\n",
    "result = pd.concat([new_df_prophet.set_index('ds')['y'], forecast.set_index('ds')[['yhat','yhat_lower','yhat_upper']]], axis=1)\n",
    "fig1 = m.plot(forecast)\n",
    "add_changepoints_to_plot(fig1.gca(), m, forecast)"
   ]
  },
  {
   "cell_type": "code",
   "execution_count": null,
   "id": "14dd3302",
   "metadata": {
    "scrolled": true
   },
   "outputs": [],
   "source": [
    "comp = m.plot_components(forecast)"
   ]
  },
  {
   "cell_type": "code",
   "execution_count": null,
   "id": "4bb4d067",
   "metadata": {},
   "outputs": [],
   "source": [
    "result['error'] = result['y'] - result['yhat'] #실제값 - 예측값범위\n",
    "result['uncertainty'] = result['yhat_upper'] - result['yhat_lower'] #범위, 불확실성"
   ]
  },
  {
   "cell_type": "code",
   "execution_count": null,
   "id": "0b20477e",
   "metadata": {},
   "outputs": [],
   "source": [
    "weight = 1.5\n",
    "# 본래 abs를 붙여 낮게 나온 이상치도 출력하는 코드였지만, 검색어 특성상 높게 나온 지점만 산출하기 위해 abs 삭제\n",
    "#비율에 따라, 검색량이 절대적으로 적은(일정 수치 이하) 경우는 가중치를 바꾸도록??\n",
    "result['anomaly'] = result.apply(lambda x: 'Yes' if((x['error']) > weight*x['uncertainty']) else 'No', axis = 1) #원래는 1.5. 나는 0.4\n",
    "#result['anomaly'] = np.where(np.abs(x['error']) > 1.5*x['uncertainty']), 'Yes', 'No') #Alternate way"
   ]
  },
  {
   "cell_type": "code",
   "execution_count": null,
   "id": "9f1ebd8f",
   "metadata": {
    "scrolled": false
   },
   "outputs": [],
   "source": [
    "result"
   ]
  },
  {
   "cell_type": "code",
   "execution_count": null,
   "id": "0c9608cf",
   "metadata": {
    "scrolled": false
   },
   "outputs": [],
   "source": [
    "#visualize the anomaly data\n",
    "fig = px.scatter(result.reset_index(), x='ds', y='y', color='anomaly', title=new_df.columns[0])\n",
    "#slider\n",
    "fig.update_xaxes(\n",
    "    rangeslider_visible = True,\n",
    "    rangeselector = dict(\n",
    "        buttons = list([\n",
    "              dict(count=1, label='1y', step=\"year\", stepmode=\"backward\"),\n",
    "              dict(count=2, label='3y', step=\"year\", stepmode=\"backward\"),\n",
    "              dict(count=2, label='5y', step=\"year\", stepmode=\"backward\"),\n",
    "              dict(step=\"all\")\n",
    "        ])\n",
    "    )\n",
    ")\n",
    "fig.show()"
   ]
  },
  {
   "cell_type": "code",
   "execution_count": null,
   "id": "bcc9cdaa",
   "metadata": {},
   "outputs": [],
   "source": [
    "result_new = result[result['anomaly']=='Yes']\n",
    "result_new\n",
    "#result_new.sort_values(by='error', ascending=False).head(50)"
   ]
  },
  {
   "cell_type": "code",
   "execution_count": null,
   "id": "41e908f7",
   "metadata": {},
   "outputs": [],
   "source": [
    "from datetime import timedelta\n",
    "anomaly_list = list(result_new.index)\n",
    "single_day = []\n",
    "multiple_days = []\n",
    "for i in anomaly_list:\n",
    "    if (i+timedelta(days=1) in anomaly_list) or (i-timedelta(days=1) in anomaly_list):\n",
    "        multiple_days.append(i)\n",
    "    else:\n",
    "        single_day.append(i)\n",
    "temp_list = []\n",
    "for i in multiple_days:\n",
    "    if (i+timedelta(days=1) in anomaly_list) and (i-timedelta(days=1) in anomaly_list):\n",
    "        temp_list.append(i)\n",
    "multiple_days = [x for x in multiple_days if x not in temp_list]"
   ]
  },
  {
   "cell_type": "code",
   "execution_count": null,
   "id": "e39401ef",
   "metadata": {},
   "outputs": [],
   "source": [
    "#연속일자\n",
    "if multiple_days != []:\n",
    "    print('시작일: ', multiple_days[0]) # 시작일. i%2==0\n",
    "    print('종료일: ', multiple_days[1]) # 종료일. i%2==1"
   ]
  },
  {
   "cell_type": "code",
   "execution_count": null,
   "id": "4cc36129",
   "metadata": {},
   "outputs": [],
   "source": [
    "multiple_days"
   ]
  },
  {
   "cell_type": "code",
   "execution_count": null,
   "id": "3eb9873a",
   "metadata": {},
   "outputs": [],
   "source": [
    "# 단독일자\n",
    "single_day"
   ]
  },
  {
   "cell_type": "markdown",
   "id": "0d4d1a14",
   "metadata": {},
   "source": [
    "# 예측 평가??\n",
    "- https://dining-developer.tistory.com/25"
   ]
  },
  {
   "cell_type": "code",
   "execution_count": null,
   "id": "b59398ee",
   "metadata": {
    "scrolled": true
   },
   "outputs": [],
   "source": [
    "new_df_prophet[(new_df_prophet['ds'] >= '2022-01-01')]"
   ]
  },
  {
   "cell_type": "code",
   "execution_count": null,
   "id": "53698cda",
   "metadata": {},
   "outputs": [],
   "source": [
    "import datetime\n",
    "# 모델 생성 후 학습\n",
    "model = Prophet() #seasonality_mode='multiplicative' 승법기법??\n",
    "model.add_country_holidays(country_name='KR')\n",
    "# 마지막 12개월 제외시키기\n",
    "#train = new_df_prophet[(new_df_prophet['ds'] >= '2016-01-01') & (new_df_prophet['ds'] <= '2021-12-31')] \n",
    "y_true = new_df_prophet[(new_df_prophet['ds'] >= '2022-01-01')]['y'].values\n",
    "\n",
    "# 모델 학습\n",
    "model.fit(new_df_prophet) #학습모델로 평가하는게 맞나?\n",
    "\n",
    "# train set 마지막 1년 날짜 생성\n",
    "last_1year = new_df_prophet[(new_df_prophet['ds'] >= '2022-01-01')]['ds']\n",
    "last_1year = pd.DataFrame(last_1year, columns = ['ds'])\n",
    "last_1year['ds']= pd.to_datetime(last_1year['ds'])\n",
    "\n",
    "# 에측\n",
    "forecast = model.predict(last_1year)\n",
    "print(forecast[['ds', 'yhat', 'yhat_lower', 'yhat_upper']].head())\n",
    "\n",
    "model.plot(forecast)\n",
    "plt.xlim([datetime.date(2022, 1, 1), datetime.date(2022, 11, 1)])\n",
    "#plt.ylim([0, 30000])\n",
    "plt.show()"
   ]
  },
  {
   "cell_type": "code",
   "execution_count": null,
   "id": "fe1d3870",
   "metadata": {
    "scrolled": true
   },
   "outputs": [],
   "source": [
    "last_1year.reset_index()['ds']"
   ]
  },
  {
   "cell_type": "code",
   "execution_count": null,
   "id": "978daa3c",
   "metadata": {},
   "outputs": [],
   "source": [
    "new_df_prophet[:-8]"
   ]
  },
  {
   "cell_type": "code",
   "execution_count": null,
   "id": "9dac06e2",
   "metadata": {},
   "outputs": [],
   "source": [
    "# 마지막 12개월 제외시키기\n",
    "train = new_df_prophet[(new_df_prophet['ds'] >= '2016-01-01') & (new_df_prophet['ds'] <= '2021-12-31')] \n",
    "y_true = new_df_prophet[(new_df_prophet['ds'] >= '2022-01-01')]['y'].values\n",
    "# 모델 생성 후 학습\n",
    "model = Prophet()\n",
    "model.add_country_holidays(country_name='KR')\n",
    "model.fit(new_df_prophet) #실제로는 new_df_prophet\n",
    "# train set 마지막 1년 날짜 생성\n",
    "last_1year = new_df_prophet[(new_df_prophet['ds'] >= '2022-01-01')]['ds']\n",
    "last_1year = pd.DataFrame(last_1year, columns = ['ds'])\n",
    "last_1year['ds']= pd.to_datetime(last_1year['ds'])\n",
    "\n",
    "# 예측하고 비교하기\n",
    "# 여기에서는 MAE를 살펴본다.\n",
    "forecast = model.predict(last_1year)\n",
    "y_pred = forecast['yhat'].values\n",
    "from sklearn.metrics import mean_absolute_error, mean_absolute_percentage_error\n",
    "mae = mean_absolute_error(y_true, y_pred)\n",
    "mape = mean_absolute_percentage_error(y_true, y_pred)*100\n",
    "print('MAE: %.3f' % mae)\n",
    "print('MAPE: %.3f' % mape)"
   ]
  },
  {
   "cell_type": "code",
   "execution_count": null,
   "id": "726a62b1",
   "metadata": {
    "scrolled": false
   },
   "outputs": [],
   "source": [
    "plt.plot(y_true, label='Actual')\n",
    "plt.plot(y_pred, label='Predicted')\n",
    "plt.legend()\n",
    "#plt.ylim([0, 20000])\n",
    "plt.show()\n",
    "# 2022년에 변동점이 있는 경우 예측을 아예 못 함(오히려 못해서 좋음!)"
   ]
  },
  {
   "cell_type": "code",
   "execution_count": null,
   "id": "60ad0d72",
   "metadata": {},
   "outputs": [],
   "source": [
    "pd.DataFrame(y_pred,y_true).reset_index().corr() #상관 정도에 따라 anomaly 가중치를 설정??(절대량,상관정도 2개의 기준으로 하는게 좋아보임~)"
   ]
  },
  {
   "cell_type": "code",
   "execution_count": null,
   "id": "5aaadbc3",
   "metadata": {},
   "outputs": [],
   "source": [
    "# 교차검증\n",
    "# - https://gmnam.tistory.com/230"
   ]
  }
 ],
 "metadata": {
  "kernelspec": {
   "display_name": "Python 3 (ipykernel)",
   "language": "python",
   "name": "python3"
  },
  "language_info": {
   "codemirror_mode": {
    "name": "ipython",
    "version": 3
   },
   "file_extension": ".py",
   "mimetype": "text/x-python",
   "name": "python",
   "nbconvert_exporter": "python",
   "pygments_lexer": "ipython3",
   "version": "3.9.12"
  }
 },
 "nbformat": 4,
 "nbformat_minor": 5
}
