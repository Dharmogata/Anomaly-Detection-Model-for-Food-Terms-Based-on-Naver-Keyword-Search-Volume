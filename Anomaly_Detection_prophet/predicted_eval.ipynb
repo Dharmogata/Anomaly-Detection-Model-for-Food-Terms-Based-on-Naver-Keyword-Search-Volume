{
 "cells": [
  {
   "cell_type": "code",
   "execution_count": 3,
   "metadata": {},
   "outputs": [
    {
     "name": "stdout",
     "output_type": "stream",
     "text": [
      "해당 검색어는 이상감지 목표 검색어에 해당하지 않습니다. config 파일에 추가 후 재실행 해주십시오.\n"
     ]
    }
   ],
   "source": [
    "### vscode에서는 실행불가. jupyter를 이용하는 것을 권장 ###\n",
    "\n",
    "# 라이브러리\n",
    "import pandas as pd\n",
    "import matplotlib.pyplot as plt\n",
    "import datetime\n",
    "import glob\n",
    "from natsort import natsorted\n",
    "from prophet import Prophet\n",
    "from sklearn.metrics import mean_absolute_error, mean_absolute_percentage_error\n",
    "\n",
    "files = glob.glob('../Naver_Search_Amount/data/result/search_result_absolute*.csv') #최신파일 읽어오기\n",
    "recent_file = natsorted(seq=files, reverse=True)[0]\n",
    "df_anomaly = pd.read_csv(recent_file, encoding='cp949')\n",
    "df_anomaly = df_anomaly[df_anomaly.columns[df_anomaly.apply(lambda x: len(x[x.notnull().values]) > 30).values == True]] # 값이 30개 이상인 항목만\n",
    "\n",
    "def eval(df_anomaly):\n",
    "    search_key = input('검색어를 입력해주세요: ')\n",
    "    if search_key not in df_anomaly.columns:\n",
    "        return print('해당 검색어는 이상감지 목표 검색어에 해당하지 않습니다. config 파일에 추가 후 재실행 해주십시오.')\n",
    "    new_df = df_anomaly[['날짜', search_key]]\n",
    "    new_df['날짜'] = new_df['날짜'].astype('datetime64[ns]')\n",
    "    new_df = new_df.set_index('날짜')\n",
    "    new_df_prophet = new_df.reset_index()[['날짜', new_df.columns[0]]].rename({'날짜':'ds', new_df.columns[0]:'y'}, axis='columns')\n",
    "    model = Prophet() #seasonality_mode='multiplicative' 승법기법??\n",
    "    model.add_country_holidays(country_name='KR')\n",
    "    # 모델 학습(train을 분리하지 않은 이유는 분석목적이 '정확한 예측'이 아닌 '일반적인 수치'를 찾는 작업이기 때문-보고서 참조)\n",
    "    model.fit(new_df_prophet)\n",
    "    # train set 2022년 이후 날짜 생성\n",
    "    year_2022 = new_df_prophet[(new_df_prophet['ds'] >= '2022-01-01')]['ds']\n",
    "    year_2022 = pd.DataFrame(year_2022, columns = ['ds'])\n",
    "    year_2022['ds']= pd.to_datetime(year_2022['ds'])\n",
    "    \n",
    "    # 성능 평가(2022 그래프)\n",
    "    forecast = model.predict(year_2022)\n",
    "    model.plot(forecast)\n",
    "    plt.xlim([datetime.date(2022, 1, 1), datetime.date(2022, 11, 1)])\n",
    "    #plt.ylim([0, 30000])\n",
    "    print('2022년 검색량 예측 결과입니다.')\n",
    "    plt.show()\n",
    "\n",
    "    # 성능 평가(2022 수치)\n",
    "    # 여기에서는 MAE를 살펴본다.\n",
    "    y_true = new_df_prophet[(new_df_prophet['ds'] >= '2022-01-01')]['y'].values\n",
    "    y_pred = forecast['yhat'].values\n",
    "    mae = mean_absolute_error(y_true, y_pred)\n",
    "    mape = mean_absolute_percentage_error(y_true, y_pred)*100\n",
    "    print('MAE: %.3f' % mae)\n",
    "    print('MAPE: %.3f' % mape)\n",
    "\n",
    "    #전체 예측 성능(그래프)\n",
    "    plt.plot(y_true, label='Actual')\n",
    "    plt.plot(y_pred, label='Predicted')\n",
    "    plt.legend()\n",
    "    #plt.ylim([0, 20000])\n",
    "    plt.show()\n",
    "\n",
    "eval(df_anomaly)"
   ]
  }
 ],
 "metadata": {
  "kernelspec": {
   "display_name": "base",
   "language": "python",
   "name": "python3"
  },
  "language_info": {
   "codemirror_mode": {
    "name": "ipython",
    "version": 3
   },
   "file_extension": ".py",
   "mimetype": "text/x-python",
   "name": "python",
   "nbconvert_exporter": "python",
   "pygments_lexer": "ipython3",
   "version": "3.9.12"
  },
  "orig_nbformat": 4,
  "vscode": {
   "interpreter": {
    "hash": "a077222d77dfe082b8f1dd562ad70e458ac2ab76993a0b248ab0476e32e9e8dd"
   }
  }
 },
 "nbformat": 4,
 "nbformat_minor": 2
}
