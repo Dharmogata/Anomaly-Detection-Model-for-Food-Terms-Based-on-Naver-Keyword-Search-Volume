{
 "cells": [
  {
   "cell_type": "code",
   "execution_count": 2,
   "metadata": {},
   "outputs": [
    {
     "name": "stderr",
     "output_type": "stream",
     "text": [
      "100%|██████████| 896/896 [00:42<00:00, 20.88it/s]\n"
     ]
    }
   ],
   "source": [
    "import pandas as pd\n",
    "from tqdm import tqdm\n",
    "from keyword_extraction import *\n",
    "\n",
    "\"\"\" 키워드 추출 from title \"\"\"\n",
    "##### Hannanum Class\n",
    "from konlpy.tag import Hannanum\n",
    "hannanum = Hannanum()\n",
    "##### Kkma Class\n",
    "from konlpy.tag import Kkma\n",
    "kkma = Kkma()\n",
    "##### Komoran Class\n",
    "from konlpy.tag import Komoran\n",
    "komoran = Komoran()\n",
    "##### Mecab Class\n",
    "from konlpy.tag import Mecab\n",
    "mecab = Mecab(dicpath=r\"C:/mecab/mecab-ko-dic\") \n",
    "##### Okt (Twitter) Class\n",
    "from konlpy.tag import Okt\n",
    "okt = Okt()\n",
    "\n",
    "df = pd.read_csv('../News_Crawler/data/title_식품안전나라_20220101_20221231.csv')\n",
    "df['title_c'] = df.apply(clean_text, axis=1)\n",
    "df['keyword_hannanum'] = ''\n",
    "df['keyword_kkma'] = ''\n",
    "df['keyword_komoran'] = ''\n",
    "df['keyword_mecab'] = ''\n",
    "df['token_mecab'] = ''\n",
    "df['keyword_okt'] = ''\n",
    "\n",
    "for idx_line in tqdm(range(len(df))):\n",
    "    nouns_list_hannanum = hannanum.nouns(df['title_c'].loc[idx_line])\n",
    "    nouns_list_hannanum_c = [nouns for nouns in nouns_list_hannanum if len(nouns) > 1]    # 한글자는 이상한게 많아서 2글자 이상\n",
    "    df.loc[idx_line]['keyword_hannanum'] = nouns_list_hannanum_c #자체수정(원래는 set)\n",
    "\n",
    "    nouns_list_kkma = kkma.nouns(df['title_c'].loc[idx_line])\n",
    "    nouns_list_kkma_c = [nouns for nouns in nouns_list_kkma if len(nouns) > 1]    # 한글자는 이상한게 많아서 2글자 이상\n",
    "    df.loc[idx_line]['keyword_kkma'] = nouns_list_kkma_c #자체수정\n",
    "\n",
    "    nouns_list_komoran = komoran.nouns(df['title_c'].loc[idx_line])\n",
    "    nouns_list_komoran_c = [nouns for nouns in nouns_list_komoran if len(nouns) > 1]    # 한글자는 이상한게 많아서 2글자 이상\n",
    "    df.loc[idx_line]['keyword_komoran'] = nouns_list_komoran_c #자체수정\n",
    "\n",
    "    nouns_list_mecab = mecab.nouns(df['title_c'].loc[idx_line])\n",
    "    nouns_list_mecab_c = [nouns for nouns in nouns_list_mecab if len(nouns) > 1]    # 한글자는 이상한게 많아서 2글자 이상\n",
    "    df.loc[idx_line]['keyword_mecab'] = nouns_list_mecab_c #자체수정\n",
    "    \n",
    "    #형태소추출\n",
    "    token_list_mecab = mecab.morphs(df['title_c'].loc[idx_line])\n",
    "    token_list_mecab_c = [tokens for tokens in token_list_mecab if len(tokens) > 1]    # 한글자는 이상한게 많아서 2글자 이상\n",
    "    df.loc[idx_line]['token_mecab'] = token_list_mecab_c #자체수정\n",
    "\n",
    "    nouns_list_okt = okt.nouns(df['title_c'].loc[idx_line])\n",
    "    nouns_list_okt_c = [nouns for nouns in nouns_list_okt if len(nouns) > 1]    # 한글자는 이상한게 많아서 2글자 이상\n",
    "    df.loc[idx_line]['keyword_okt'] = nouns_list_okt_c #자체수정\n",
    "df"
   ]
  }
 ],
 "metadata": {
  "kernelspec": {
   "display_name": "base",
   "language": "python",
   "name": "python3"
  },
  "language_info": {
   "codemirror_mode": {
    "name": "ipython",
    "version": 3
   },
   "file_extension": ".py",
   "mimetype": "text/x-python",
   "name": "python",
   "nbconvert_exporter": "python",
   "pygments_lexer": "ipython3",
   "version": "3.9.12"
  },
  "orig_nbformat": 4,
  "vscode": {
   "interpreter": {
    "hash": "a077222d77dfe082b8f1dd562ad70e458ac2ab76993a0b248ab0476e32e9e8dd"
   }
  }
 },
 "nbformat": 4,
 "nbformat_minor": 2
}
