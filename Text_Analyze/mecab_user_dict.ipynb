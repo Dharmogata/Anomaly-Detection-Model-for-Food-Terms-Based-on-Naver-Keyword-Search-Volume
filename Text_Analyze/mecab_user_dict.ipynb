{
 "cells": [
  {
   "attachments": {},
   "cell_type": "markdown",
   "metadata": {},
   "source": [
    "# Mecab 사용자사전 추가하기 (PowerShell에 별도실행 대신 파이썬을 이용한 일괄 실행) "
   ]
  },
  {
   "cell_type": "code",
   "execution_count": 1,
   "metadata": {},
   "outputs": [
    {
     "data": {
      "text/plain": [
       "['대우,,,,NNP,*,F,대우,*,*,*,*,*\\n', '구글,,,,NNP,*,T,구글,*,*,*,*,*\\n']"
      ]
     },
     "execution_count": 1,
     "metadata": {},
     "output_type": "execute_result"
    }
   ],
   "source": [
    "# 종성여부 판단\n",
    "from jamo import h2j, j2hcj\n",
    "from konlpy.tag import Mecab\n",
    "mecab = Mecab(dicpath=r\"C:/mecab/mecab-ko-dic\") \n",
    "\n",
    "# 추가할 단어 리스트(config 파일 불러오기)-외부로 공개를 원하지 않을 경우 선택\n",
    "from config import *\n",
    "_cfg = config\n",
    "user_dict = _cfg['USER_DICT']\n",
    "# 개인 사용이라면 아래에 리스트 입력이 더 간편\n",
    "# user_dict = []\n",
    "\n",
    "def get_jongsung_TF(sample_text):\n",
    "    sample_text_list = list(sample_text)\n",
    "    last_word = sample_text_list[-1]\n",
    "    last_word_jamo_list = list(j2hcj(h2j(last_word)))\n",
    "    last_jamo = last_word_jamo_list[-1]\n",
    "    jongsung_TF = \"T\"\n",
    "    if last_jamo in ['ㅏ', 'ㅑ', 'ㅓ', 'ㅕ', 'ㅗ', 'ㅛ', 'ㅜ', 'ㅠ', 'ㅡ', 'ㅣ', 'ㅘ', 'ㅚ', 'ㅙ', 'ㅝ', 'ㅞ', 'ㅢ', 'ㅐ,ㅔ', 'ㅟ', 'ㅖ', 'ㅒ']:\n",
    "        jongsung_TF = \"F\"\n",
    "    return jongsung_TF\n",
    "\n",
    "#기본 사용자사전 형식(기본값)\n",
    "with open(\"C:/mecab/user-dic/nnp.csv\", 'r', encoding='utf-8') as f:\n",
    "    file_data = f.readlines()\n",
    "file_data"
   ]
  },
  {
   "cell_type": "code",
   "execution_count": 2,
   "metadata": {},
   "outputs": [],
   "source": [
    "# 종성여부 값 입력\n",
    "for word in user_dict:\n",
    "    jongsung_TF = get_jongsung_TF(word)\n",
    "    line = '{},,,,NNP,*,{},{},*,*,*,*,*\\n'.format(word, jongsung_TF, word)\n",
    "    file_data.append(line)\n",
    "    \n",
    "# 사용자사전에 쓰기\n",
    "with open(\"C:/mecab/user-dic/nnp_new.csv\", 'w', encoding='utf-8') as f:\n",
    "    for line in list(set(file_data)): # 중복제거\n",
    "        f.write(line)\n",
    "\n",
    "# powershell이 실행 안 되므로 변수 reset\n",
    "%reset -f"
   ]
  },
  {
   "cell_type": "code",
   "execution_count": 3,
   "metadata": {},
   "outputs": [
    {
     "data": {
      "text/plain": [
       "(None, None)"
      ]
     },
     "execution_count": 3,
     "metadata": {},
     "output_type": "execute_result"
    }
   ],
   "source": [
    "#사용자사전에 작성한 내용 적용\n",
    "\n",
    "#reset 했으므로 다시 import\n",
    "import subprocess\n",
    "\n",
    "p = subprocess.Popen(\n",
    "  [\n",
    "    \"powershell.exe\", \n",
    "    \"-noprofile\", \"-c\",\n",
    "    r\"\"\"\n",
    "    Start-Process -Verb RunAs -Wait powershell.exe -Args \"\n",
    "     -noprofile -c Set-ExecutionPolicy Unrestricted; cd c:\\mecab; .\\tools\\add-userdic-win.ps1;\n",
    "      \"\n",
    "    \"\"\"\n",
    "  ]\n",
    ")\n",
    "p.communicate()"
   ]
  },
  {
   "cell_type": "code",
   "execution_count": 4,
   "metadata": {},
   "outputs": [
    {
     "data": {
      "text/plain": [
       "(None, None)"
      ]
     },
     "execution_count": 4,
     "metadata": {},
     "output_type": "execute_result"
    }
   ],
   "source": [
    "# 우선순위 조정\n",
    "\n",
    "#reset 했으므로 다시 import\n",
    "import pandas as pd\n",
    "df_ = pd.read_csv('C:/mecab/mecab-ko-dic/user-nnp_new.csv', header=None)\n",
    "df_[3] = list(map(lambda x: 0, df_[3]))\n",
    "df_.to_csv('C:/mecab/mecab-ko-dic/user-nnp_new.csv', header=None, index=False)\n",
    "\n",
    "p = subprocess.Popen(\n",
    "  [\n",
    "    \"powershell.exe\", \n",
    "    \"-noprofile\", \"-c\",\n",
    "    r\"\"\"\n",
    "    Start-Process -Verb RunAs -Wait powershell.exe -Args \"\n",
    "     -noprofile -c Set-ExecutionPolicy Unrestricted; cd c:\\mecab; .\\tools\\compile-win.ps1;\n",
    "      \"\n",
    "    \"\"\"\n",
    "  ]#,shell=True #관리자권한\n",
    ")\n",
    "p.communicate()"
   ]
  },
  {
   "cell_type": "code",
   "execution_count": 5,
   "metadata": {},
   "outputs": [
    {
     "data": {
      "text/plain": [
       "64"
      ]
     },
     "execution_count": 5,
     "metadata": {},
     "output_type": "execute_result"
    }
   ],
   "source": [
    "# 확인\n",
    "with open(\"C:/mecab/user-dic/nnp_new.csv\", 'r', encoding='utf-8') as f:\n",
    "    file_new = f.readlines()\n",
    "len(file_new)"
   ]
  }
 ],
 "metadata": {
  "kernelspec": {
   "display_name": "base",
   "language": "python",
   "name": "python3"
  },
  "language_info": {
   "codemirror_mode": {
    "name": "ipython",
    "version": 3
   },
   "file_extension": ".py",
   "mimetype": "text/x-python",
   "name": "python",
   "nbconvert_exporter": "python",
   "pygments_lexer": "ipython3",
   "version": "3.9.12"
  },
  "orig_nbformat": 4,
  "vscode": {
   "interpreter": {
    "hash": "a077222d77dfe082b8f1dd562ad70e458ac2ab76993a0b248ab0476e32e9e8dd"
   }
  }
 },
 "nbformat": 4,
 "nbformat_minor": 2
}
