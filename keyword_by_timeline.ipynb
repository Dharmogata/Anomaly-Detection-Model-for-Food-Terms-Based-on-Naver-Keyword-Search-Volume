{
 "cells": [
  {
   "cell_type": "code",
   "execution_count": null,
   "metadata": {},
   "outputs": [],
   "source": [
    "# 폰트 설정 + 워드클라우드 출력 안 되게 수정해야 함\n",
    "import pandas as pd\n",
    "import matplotlib.pyplot as plt\n",
    "import seaborn as sns\n",
    "import numpy as np\n",
    "import warnings\n",
    "warnings.filterwarnings(action='ignore') \n",
    "\n",
    "# 폰트 설정을 위한 font_manager import\n",
    "import matplotlib.font_manager as fm\n",
    "# 폰트 설정\n",
    "#fm._rebuild()# 1회에 한해 실행해준다. (폰트 새로고침, 여러번 해줘도 관계는 없다.)\n",
    "font_fname = 'C:/Windows/Fonts/HMKMRHD.ttf'\n",
    "fontprop = fm.FontProperties(fname=font_fname, size=18).get_name()\n",
    "\n",
    "# 자체 파일\n",
    "from main import *\n",
    "df, key_keyword, recent_file = main()\n",
    "\n",
    "# 기간별 빈도값,시각화\n",
    "def get_processed_data(df, start_date, end_date):\n",
    "    query = df.copy()\n",
    "    query = query[query['date'].between(start_date, end_date)]\n",
    "    query['keyword_mecab'] = query['keyword_mecab'].apply(lambda text: ' '.join(x for x in text))\n",
    "    cnt = Counter((word for line in query['keyword_mecab'] for word in line.split()))\n",
    "    return query, cnt\n",
    "\n",
    "query1, counter1 = get_processed_data(df[['date','keyword_mecab']], '2016-01-01', '2016-12-31')\n",
    "query2, counter2 = get_processed_data(df[['date','keyword_mecab']], '2017-01-01', '2017-12-31')\n",
    "query3, counter3 = get_processed_data(df[['date','keyword_mecab']], '2018-01-01', '2018-12-31')\n",
    "query4, counter4 = get_processed_data(df[['date','keyword_mecab']], '2019-01-01', '2019-12-31')\n",
    "query5, counter5 = get_processed_data(df[['date','keyword_mecab']], '2020-01-01', '2020-12-31')\n",
    "query6, counter6 = get_processed_data(df[['date','keyword_mecab']], '2021-01-01', '2021-12-31')\n",
    "query7, counter7 = get_processed_data(df[['date','keyword_mecab']], '2022-01-01', '2022-11-30')\n",
    "\n",
    "df_counter = pd.DataFrame([counter1, counter2, counter3, counter4, counter5, counter6, counter7]).T\n",
    "df_counter.columns = ['2016년', '2017년', '2018년', '2019년', '2020년', '2021년', '2022년']\n",
    "df_counter['total_sum'] = pd.DataFrame(df_counter.T.sum().sort_values(ascending=False))\n",
    "\n",
    "# 연도별 비교를 하려면 아래 옵션 주석처리\n",
    "df_counter = df_counter.fillna(0)\n",
    "df_counter = df_counter.apply(lambda x : x / np.sum(x))\n",
    "df_counter = df_counter.apply(lambda x : (x-min(x)) / (max(x)-min(x)))\n",
    "#df = df.dropna()\n",
    "\n",
    "plt.figure(figsize=(10,15))\n",
    "sns.heatmap(df_counter.sort_values(['total_sum'], ascending=False).iloc[:50], annot=True, linewidths=0.5, cmap=\"Blues\")"
   ]
  }
 ],
 "metadata": {
  "kernelspec": {
   "display_name": "base",
   "language": "python",
   "name": "python3"
  },
  "language_info": {
   "codemirror_mode": {
    "name": "ipython",
    "version": 3
   },
   "file_extension": ".py",
   "mimetype": "text/x-python",
   "name": "python",
   "nbconvert_exporter": "python",
   "pygments_lexer": "ipython3",
   "version": "3.9.12"
  },
  "orig_nbformat": 4,
  "vscode": {
   "interpreter": {
    "hash": "a077222d77dfe082b8f1dd562ad70e458ac2ab76993a0b248ab0476e32e9e8dd"
   }
  }
 },
 "nbformat": 4,
 "nbformat_minor": 2
}
