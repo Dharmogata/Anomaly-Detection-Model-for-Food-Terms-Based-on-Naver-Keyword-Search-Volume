{
 "cells": [
  {
   "cell_type": "code",
   "execution_count": 3,
   "metadata": {},
   "outputs": [
    {
     "name": "stdout",
     "output_type": "stream",
     "text": [
      "1755\n",
      "1629\n"
     ]
    }
   ],
   "source": [
    "from config import *\n",
    "_cfg = config\n",
    "# 전체검색어 수\n",
    "print(len(sum(_cfg['Keyword'].values(), [])))\n",
    "#중복을 제거한 검색어 수\n",
    "print(len(set(sum(_cfg['Keyword'].values(), []))))"
   ]
  },
  {
   "cell_type": "code",
   "execution_count": 72,
   "metadata": {},
   "outputs": [
    {
     "name": "stdout",
     "output_type": "stream",
     "text": [
      "User_list 18\n",
      "Siksin 105\n",
      "Food_Safety_Dict 653\n",
      "Naver_Food_Rank 500\n",
      "Food_Brand 100\n",
      "Food_Safety_Issue 74\n",
      "Food_Safety_Search 305\n"
     ]
    }
   ],
   "source": [
    "# 항목별 검색어 수\n",
    "for i in _cfg['Keyword'].keys():\n",
    "    print(i,len(_cfg['Keyword'][i]))"
   ]
  }
 ],
 "metadata": {
  "kernelspec": {
   "display_name": "base",
   "language": "python",
   "name": "python3"
  },
  "language_info": {
   "codemirror_mode": {
    "name": "ipython",
    "version": 3
   },
   "file_extension": ".py",
   "mimetype": "text/x-python",
   "name": "python",
   "nbconvert_exporter": "python",
   "pygments_lexer": "ipython3",
   "version": "3.9.12"
  },
  "orig_nbformat": 4,
  "vscode": {
   "interpreter": {
    "hash": "a077222d77dfe082b8f1dd562ad70e458ac2ab76993a0b248ab0476e32e9e8dd"
   }
  }
 },
 "nbformat": 4,
 "nbformat_minor": 2
}
