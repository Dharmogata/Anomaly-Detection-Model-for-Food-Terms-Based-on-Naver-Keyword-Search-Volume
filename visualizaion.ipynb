{
 "cells": [
  {
   "cell_type": "code",
   "execution_count": null,
   "metadata": {},
   "outputs": [],
   "source": [
    "### vscode에서는 실행불가. jupyter를 이용하는 것을 권장 ###\n",
    "\n",
    "# 라이브러리\n",
    "import pandas as pd\n",
    "import plotly.express as px\n",
    "from prophet import Prophet\n",
    "import glob\n",
    "from natsort import natsorted\n",
    "\n",
    "import warnings\n",
    "warnings.filterwarnings(action='ignore')\n",
    "\n",
    "files = glob.glob('../Naver_Search_Amount/data/result/search_result_absolute*.csv') #최신파일 읽어오기\n",
    "recent_file = natsorted(seq=files, reverse=True)[0]\n",
    "df_anomaly = pd.read_csv(recent_file, encoding='cp949')\n",
    "df_anomaly = df_anomaly[df_anomaly.columns[df_anomaly.apply(lambda x: len(x[x.notnull().values]) > 30).values == True]] # 값이 30개 이상인 항목만\n",
    "weight = 1.5  #가중치 직접 설정가능 (오차 허용범위(높을 수록 둔감))\n",
    "min_value = 10000\n",
    "\n",
    "def visualization(df_anomaly):\n",
    "    search_key = input('검색어를 입력해주세요: ')\n",
    "    if search_key not in df_anomaly.columns:\n",
    "        return print('해당 검색어는 이상감지 목표 검색어에 해당하지 않습니다. config 파일에 추가 후 재실행 해주십시오.')\n",
    "    new_df = df_anomaly[['날짜', search_key]]\n",
    "    new_df['날짜'] = new_df['날짜'].astype('datetime64[ns]')\n",
    "    new_df = new_df.set_index('날짜')\n",
    "    new_df_prophet = new_df.reset_index()[['날짜', new_df.columns[0]]].rename({'날짜':'ds', new_df.columns[0]:'y'}, axis='columns')\n",
    "    m = Prophet()#changepoint_range=0.95, changepoint_prior_scale=0.05) #holidays=holidays)\n",
    "    m.add_country_holidays(country_name='KR')\n",
    "    m.fit(new_df_prophet)\n",
    "    future = m.make_future_dataframe(periods=365, freq='D')\n",
    "    forecast = m.predict(future)\n",
    "    forecast[['ds','yhat','yhat_lower','yhat_upper']].tail(10)\n",
    "    result = pd.concat([new_df_prophet.set_index('ds')['y'], forecast.set_index('ds')[['yhat','yhat_lower','yhat_upper']]], axis=1)\n",
    "    result['error'] = result['y'] - result['yhat'] #실제값 - 예측값범위\n",
    "    result['uncertainty'] = result['yhat_upper'] - result['yhat_lower'] #범위, 불확실성\n",
    "    # 본래 abs를 붙여 낮게 나온 이상치도 출력하는 코드였지만, 검색어 특성상 높게 나온 지점만 산출하기 위해 abs 삭제\n",
    "    #비율에 따라, 검색량이 절대적으로 적은(일정 수치 이하) 경우는 가중치를 바꾸도록??\n",
    "    result['anomaly'] = result.apply(lambda x: 'Yes' if((x['error']) > weight*x['uncertainty']) else 'No', axis = 1) # 하한선 지정을 제외했다. 원한다면 error을 abs(절대값)로\n",
    "    result['anomaly'] = result.apply(lambda x: 'Low' if (x['anomaly']=='Yes') & (x['y'] < min_value) else 'Yes' if (x['anomaly']=='Yes') & (x['y'] >= min_value) else 'No', axis=1) #10000 이하는 Low로\n",
    "    #visualize the anomaly data\n",
    "    fig = px.scatter(result.reset_index(), x='ds', y='y', color='anomaly', \n",
    "                     color_discrete_map={'Yes': '#EF553B','No': '#636EFA', 'Low': '#00CC96'}, title=new_df.columns[0])    \n",
    "    #slider\n",
    "    fig.update_xaxes(\n",
    "        rangeslider_visible = True,\n",
    "        rangeselector = dict(\n",
    "            buttons = list([\n",
    "                    dict(count=1, label='1y', step=\"year\", stepmode=\"backward\"),\n",
    "                    dict(count=2, label='3y', step=\"year\", stepmode=\"backward\"),\n",
    "                    dict(count=2, label='5y', step=\"year\", stepmode=\"backward\"),\n",
    "                    dict(step=\"all\")\n",
    "            ])\n",
    "        )\n",
    "    )\n",
    "    fig.show()\n",
    "\n",
    "visualization(df_anomaly)"
   ]
  }
 ],
 "metadata": {
  "kernelspec": {
   "display_name": "base",
   "language": "python",
   "name": "python3"
  },
  "language_info": {
   "codemirror_mode": {
    "name": "ipython",
    "version": 3
   },
   "file_extension": ".py",
   "mimetype": "text/x-python",
   "name": "python",
   "nbconvert_exporter": "python",
   "pygments_lexer": "ipython3",
   "version": "3.9.12"
  },
  "orig_nbformat": 4,
  "vscode": {
   "interpreter": {
    "hash": "a077222d77dfe082b8f1dd562ad70e458ac2ab76993a0b248ab0476e32e9e8dd"
   }
  }
 },
 "nbformat": 4,
 "nbformat_minor": 2
}
